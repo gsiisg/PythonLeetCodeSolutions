{
 "cells": [
  {
   "cell_type": "code",
   "execution_count": 26,
   "metadata": {},
   "outputs": [],
   "source": [
    "a = \"2*3423-4*95\""
   ]
  },
  {
   "cell_type": "code",
   "execution_count": 79,
   "metadata": {},
   "outputs": [],
   "source": [
    "def calc(a,op,b):\n",
    "    if op=='+':\n",
    "        return a+b\n",
    "    if op=='-':\n",
    "        print(f'subtracting {a} and {b} of type {type(a)}')\n",
    "        return a-b\n",
    "    if op=='*':\n",
    "        print(f'multiplying {a} and {b} of type {type(a)}')\n",
    "        return a*b\n",
    "memo = {}\n",
    "def recurse(num_ops):\n",
    "    print('on', num_ops)\n",
    "\n",
    "    # early stop\n",
    "    if num_ops in memo:\n",
    "        return memo[num_ops]\n",
    "\n",
    "    if len(num_ops)==1:\n",
    "        res = [num_ops[0]]\n",
    "        memo[num_ops]= res\n",
    "        return res\n",
    "\n",
    "    result = []\n",
    "\n",
    "    # even elements are the ops\n",
    "    for i in range(1,len(num_ops),2):\n",
    "        print(f'recurse left {num_ops[:i]}')\n",
    "        left = recurse(num_ops[:i])\n",
    "        print(f'result from left is', left)\n",
    "        op = num_ops[i]\n",
    "        print(f'recurse right {num_ops[i+1:]}')\n",
    "        right = recurse(num_ops[i+1:])\n",
    "        print(f'result from right is', right)\n",
    "        \n",
    "        print(f'recurse left op right {left},{op},{right}')\n",
    "        for l in left:\n",
    "            for r in right:\n",
    "                print(f'l is {l}, op is {op}, r is {r}')\n",
    "                res = calc(l, op, r)\n",
    "                memo[num_ops] = res\n",
    "                result.append(res)\n",
    "\n",
    "        print(f'for index {i} result is', result)\n",
    "    \n",
    "    return result"
   ]
  },
  {
   "cell_type": "code",
   "execution_count": 80,
   "metadata": {},
   "outputs": [
    {
     "name": "stdout",
     "output_type": "stream",
     "text": [
      "on (4, '*', 5)\n",
      "recurse left (4,)\n",
      "on (4,)\n",
      "result from left is [4]\n",
      "recurse right (5,)\n",
      "on (5,)\n",
      "result from right is [5]\n",
      "recurse left op right [4],*,[5]\n",
      "l is 4, op is *, r is 5\n",
      "multiplying 4 and 5 of type <class 'int'>\n",
      "for index 1 result is [20]\n"
     ]
    },
    {
     "data": {
      "text/plain": [
       "[20]"
      ]
     },
     "execution_count": 80,
     "metadata": {},
     "output_type": "execute_result"
    }
   ],
   "source": [
    "recurse((4, '*', 5))"
   ]
  },
  {
   "cell_type": "code",
   "execution_count": 52,
   "metadata": {},
   "outputs": [
    {
     "data": {
      "text/plain": [
       "[2, 3423, 4, 95]"
      ]
     },
     "execution_count": 52,
     "metadata": {},
     "output_type": "execute_result"
    }
   ],
   "source": [
    "i=1\n",
    "numbers[:i]+numbers[i:i+2]+numbers[i+2:]"
   ]
  },
  {
   "cell_type": "code",
   "execution_count": 53,
   "metadata": {},
   "outputs": [
    {
     "data": {
      "text/plain": [
       "[2, 95]"
      ]
     },
     "execution_count": 53,
     "metadata": {},
     "output_type": "execute_result"
    }
   ],
   "source": [
    "nn=numbers[:i]+numbers[i+2:]\n",
    "nn"
   ]
  },
  {
   "cell_type": "code",
   "execution_count": 86,
   "metadata": {},
   "outputs": [
    {
     "data": {
      "text/plain": [
       "1"
      ]
     },
     "execution_count": 86,
     "metadata": {},
     "output_type": "execute_result"
    }
   ],
   "source": [
    "int((1,)[0])"
   ]
  },
  {
   "cell_type": "code",
   "execution_count": 70,
   "metadata": {},
   "outputs": [],
   "source": [
    "d+=4,"
   ]
  },
  {
   "cell_type": "code",
   "execution_count": 72,
   "metadata": {},
   "outputs": [
    {
     "data": {
      "text/plain": [
       "(1, 2, 3)"
      ]
     },
     "execution_count": 72,
     "metadata": {},
     "output_type": "execute_result"
    }
   ],
   "source": [
    "d[:3]"
   ]
  },
  {
   "cell_type": "code",
   "execution_count": 74,
   "metadata": {},
   "outputs": [
    {
     "data": {
      "text/plain": [
       "1"
      ]
     },
     "execution_count": 74,
     "metadata": {},
     "output_type": "execute_result"
    }
   ],
   "source": [
    "len((5,))"
   ]
  },
  {
   "cell_type": "code",
   "execution_count": 90,
   "metadata": {},
   "outputs": [],
   "source": [
    "generation_charges = 77.24+6.34+36.04\n",
    "credit = -8.08-17.58-10.53"
   ]
  },
  {
   "cell_type": "code",
   "execution_count": 91,
   "metadata": {},
   "outputs": [
    {
     "data": {
      "text/plain": [
       "248.7"
      ]
     },
     "execution_count": 91,
     "metadata": {},
     "output_type": "execute_result"
    }
   ],
   "source": [
    "15.6+56.66+13.07+74.44+3.96+ generation_charges +1.33+0.21 + credit\n"
   ]
  },
  {
   "cell_type": "code",
   "execution_count": 92,
   "metadata": {},
   "outputs": [
    {
     "data": {
      "text/plain": [
       "(-36.19, 119.62)"
      ]
     },
     "execution_count": 92,
     "metadata": {},
     "output_type": "execute_result"
    }
   ],
   "source": [
    "credit, generation_charges"
   ]
  },
  {
   "cell_type": "code",
   "execution_count": 98,
   "metadata": {},
   "outputs": [
    {
     "name": "stdout",
     "output_type": "stream",
     "text": [
      "\u001b[0m\u001b[01;32mentrypoint.sh\u001b[0m*  \u001b[34;42mmounted\u001b[0m/\n"
     ]
    }
   ],
   "source": [
    "ls"
   ]
  },
  {
   "cell_type": "code",
   "execution_count": 130,
   "metadata": {},
   "outputs": [],
   "source": [
    "import pandas as pd\n",
    "df = pd.read_csv('/home/rapids/mounted/albion/SCE_2024_NBT_EEC_MIDAS_Upload.csv')"
   ]
  },
  {
   "cell_type": "code",
   "execution_count": 131,
   "metadata": {},
   "outputs": [],
   "source": [
    "df['Month'] = df['ValueName'].apply(lambda x: x.split()[0])"
   ]
  },
  {
   "cell_type": "code",
   "execution_count": 136,
   "metadata": {},
   "outputs": [
    {
     "data": {
      "text/html": [
       "<div>\n",
       "<style scoped>\n",
       "    .dataframe tbody tr th:only-of-type {\n",
       "        vertical-align: middle;\n",
       "    }\n",
       "\n",
       "    .dataframe tbody tr th {\n",
       "        vertical-align: top;\n",
       "    }\n",
       "\n",
       "    .dataframe thead th {\n",
       "        text-align: right;\n",
       "    }\n",
       "</style>\n",
       "<table border=\"1\" class=\"dataframe\">\n",
       "  <thead>\n",
       "    <tr style=\"text-align: right;\">\n",
       "      <th></th>\n",
       "      <th>RIN</th>\n",
       "      <th>RateName</th>\n",
       "      <th>DateStart</th>\n",
       "      <th>TimeStart</th>\n",
       "      <th>DateEnd</th>\n",
       "      <th>TimeEnd</th>\n",
       "      <th>DayStart</th>\n",
       "      <th>DayEnd</th>\n",
       "      <th>ValueName</th>\n",
       "      <th>Value</th>\n",
       "      <th>Unit</th>\n",
       "      <th>RateType</th>\n",
       "      <th>Sector</th>\n",
       "      <th>RatePlan_Url</th>\n",
       "      <th>AltRateName1</th>\n",
       "      <th>AltRateName2</th>\n",
       "      <th>SignupCloseDate</th>\n",
       "      <th>EndUse</th>\n",
       "      <th>API_Url</th>\n",
       "      <th>Month</th>\n",
       "    </tr>\n",
       "  </thead>\n",
       "  <tbody>\n",
       "    <tr>\n",
       "      <th>5087</th>\n",
       "      <td>USCA-XXSC-NB23-0000</td>\n",
       "      <td>NBT23</td>\n",
       "      <td>45139</td>\n",
       "      <td>0.291667</td>\n",
       "      <td>45139</td>\n",
       "      <td>0.292350</td>\n",
       "      <td>NaN</td>\n",
       "      <td>NaN</td>\n",
       "      <td>Aug Weekday HS0</td>\n",
       "      <td>0.05690</td>\n",
       "      <td>export $/kWh</td>\n",
       "      <td>TOU</td>\n",
       "      <td>All</td>\n",
       "      <td>NaN</td>\n",
       "      <td>NaN</td>\n",
       "      <td>NaN</td>\n",
       "      <td>NaN</td>\n",
       "      <td>NaN</td>\n",
       "      <td>NaN</td>\n",
       "      <td>Aug</td>\n",
       "    </tr>\n",
       "    <tr>\n",
       "      <th>5088</th>\n",
       "      <td>USCA-XXSC-NB23-0000</td>\n",
       "      <td>NBT23</td>\n",
       "      <td>45139</td>\n",
       "      <td>0.333333</td>\n",
       "      <td>45139</td>\n",
       "      <td>0.334016</td>\n",
       "      <td>NaN</td>\n",
       "      <td>NaN</td>\n",
       "      <td>Aug Weekday HS1</td>\n",
       "      <td>0.05065</td>\n",
       "      <td>export $/kWh</td>\n",
       "      <td>TOU</td>\n",
       "      <td>All</td>\n",
       "      <td>NaN</td>\n",
       "      <td>NaN</td>\n",
       "      <td>NaN</td>\n",
       "      <td>NaN</td>\n",
       "      <td>NaN</td>\n",
       "      <td>NaN</td>\n",
       "      <td>Aug</td>\n",
       "    </tr>\n",
       "    <tr>\n",
       "      <th>5089</th>\n",
       "      <td>USCA-XXSC-NB23-0000</td>\n",
       "      <td>NBT23</td>\n",
       "      <td>45139</td>\n",
       "      <td>0.375000</td>\n",
       "      <td>45139</td>\n",
       "      <td>0.375683</td>\n",
       "      <td>NaN</td>\n",
       "      <td>NaN</td>\n",
       "      <td>Aug Weekday HS2</td>\n",
       "      <td>0.05020</td>\n",
       "      <td>export $/kWh</td>\n",
       "      <td>TOU</td>\n",
       "      <td>All</td>\n",
       "      <td>NaN</td>\n",
       "      <td>NaN</td>\n",
       "      <td>NaN</td>\n",
       "      <td>NaN</td>\n",
       "      <td>NaN</td>\n",
       "      <td>NaN</td>\n",
       "      <td>Aug</td>\n",
       "    </tr>\n",
       "    <tr>\n",
       "      <th>5090</th>\n",
       "      <td>USCA-XXSC-NB23-0000</td>\n",
       "      <td>NBT23</td>\n",
       "      <td>45139</td>\n",
       "      <td>0.416667</td>\n",
       "      <td>45139</td>\n",
       "      <td>0.417350</td>\n",
       "      <td>NaN</td>\n",
       "      <td>NaN</td>\n",
       "      <td>Aug Weekday HS3</td>\n",
       "      <td>0.04977</td>\n",
       "      <td>export $/kWh</td>\n",
       "      <td>TOU</td>\n",
       "      <td>All</td>\n",
       "      <td>NaN</td>\n",
       "      <td>NaN</td>\n",
       "      <td>NaN</td>\n",
       "      <td>NaN</td>\n",
       "      <td>NaN</td>\n",
       "      <td>NaN</td>\n",
       "      <td>Aug</td>\n",
       "    </tr>\n",
       "    <tr>\n",
       "      <th>5091</th>\n",
       "      <td>USCA-XXSC-NB23-0000</td>\n",
       "      <td>NBT23</td>\n",
       "      <td>45139</td>\n",
       "      <td>0.458333</td>\n",
       "      <td>45139</td>\n",
       "      <td>0.459016</td>\n",
       "      <td>NaN</td>\n",
       "      <td>NaN</td>\n",
       "      <td>Aug Weekday HS4</td>\n",
       "      <td>0.04947</td>\n",
       "      <td>export $/kWh</td>\n",
       "      <td>TOU</td>\n",
       "      <td>All</td>\n",
       "      <td>NaN</td>\n",
       "      <td>NaN</td>\n",
       "      <td>NaN</td>\n",
       "      <td>NaN</td>\n",
       "      <td>NaN</td>\n",
       "      <td>NaN</td>\n",
       "      <td>Aug</td>\n",
       "    </tr>\n",
       "    <tr>\n",
       "      <th>...</th>\n",
       "      <td>...</td>\n",
       "      <td>...</td>\n",
       "      <td>...</td>\n",
       "      <td>...</td>\n",
       "      <td>...</td>\n",
       "      <td>...</td>\n",
       "      <td>...</td>\n",
       "      <td>...</td>\n",
       "      <td>...</td>\n",
       "      <td>...</td>\n",
       "      <td>...</td>\n",
       "      <td>...</td>\n",
       "      <td>...</td>\n",
       "      <td>...</td>\n",
       "      <td>...</td>\n",
       "      <td>...</td>\n",
       "      <td>...</td>\n",
       "      <td>...</td>\n",
       "      <td>...</td>\n",
       "      <td>...</td>\n",
       "    </tr>\n",
       "    <tr>\n",
       "      <th>1048266</th>\n",
       "      <td>USCA-SCXX-NB00-0000</td>\n",
       "      <td>NBT00</td>\n",
       "      <td>52475</td>\n",
       "      <td>0.083333</td>\n",
       "      <td>52475</td>\n",
       "      <td>0.084016</td>\n",
       "      <td>NaN</td>\n",
       "      <td>NaN</td>\n",
       "      <td>Aug Weekday HS19</td>\n",
       "      <td>0.29122</td>\n",
       "      <td>export $/kWh</td>\n",
       "      <td>TOU</td>\n",
       "      <td>All</td>\n",
       "      <td>NaN</td>\n",
       "      <td>NaN</td>\n",
       "      <td>NaN</td>\n",
       "      <td>NaN</td>\n",
       "      <td>NaN</td>\n",
       "      <td>NaN</td>\n",
       "      <td>Aug</td>\n",
       "    </tr>\n",
       "    <tr>\n",
       "      <th>1048267</th>\n",
       "      <td>USCA-SCXX-NB00-0000</td>\n",
       "      <td>NBT00</td>\n",
       "      <td>52475</td>\n",
       "      <td>0.125000</td>\n",
       "      <td>52475</td>\n",
       "      <td>0.125683</td>\n",
       "      <td>NaN</td>\n",
       "      <td>NaN</td>\n",
       "      <td>Aug Weekday HS20</td>\n",
       "      <td>0.30030</td>\n",
       "      <td>export $/kWh</td>\n",
       "      <td>TOU</td>\n",
       "      <td>All</td>\n",
       "      <td>NaN</td>\n",
       "      <td>NaN</td>\n",
       "      <td>NaN</td>\n",
       "      <td>NaN</td>\n",
       "      <td>NaN</td>\n",
       "      <td>NaN</td>\n",
       "      <td>Aug</td>\n",
       "    </tr>\n",
       "    <tr>\n",
       "      <th>1048268</th>\n",
       "      <td>USCA-SCXX-NB00-0000</td>\n",
       "      <td>NBT00</td>\n",
       "      <td>52475</td>\n",
       "      <td>0.166667</td>\n",
       "      <td>52475</td>\n",
       "      <td>0.167350</td>\n",
       "      <td>NaN</td>\n",
       "      <td>NaN</td>\n",
       "      <td>Aug Weekday HS21</td>\n",
       "      <td>0.18590</td>\n",
       "      <td>export $/kWh</td>\n",
       "      <td>TOU</td>\n",
       "      <td>All</td>\n",
       "      <td>NaN</td>\n",
       "      <td>NaN</td>\n",
       "      <td>NaN</td>\n",
       "      <td>NaN</td>\n",
       "      <td>NaN</td>\n",
       "      <td>NaN</td>\n",
       "      <td>Aug</td>\n",
       "    </tr>\n",
       "    <tr>\n",
       "      <th>1048269</th>\n",
       "      <td>USCA-SCXX-NB00-0000</td>\n",
       "      <td>NBT00</td>\n",
       "      <td>52475</td>\n",
       "      <td>0.208333</td>\n",
       "      <td>52475</td>\n",
       "      <td>0.209016</td>\n",
       "      <td>NaN</td>\n",
       "      <td>NaN</td>\n",
       "      <td>Aug Weekday HS22</td>\n",
       "      <td>0.09474</td>\n",
       "      <td>export $/kWh</td>\n",
       "      <td>TOU</td>\n",
       "      <td>All</td>\n",
       "      <td>NaN</td>\n",
       "      <td>NaN</td>\n",
       "      <td>NaN</td>\n",
       "      <td>NaN</td>\n",
       "      <td>NaN</td>\n",
       "      <td>NaN</td>\n",
       "      <td>Aug</td>\n",
       "    </tr>\n",
       "    <tr>\n",
       "      <th>1048270</th>\n",
       "      <td>USCA-SCXX-NB00-0000</td>\n",
       "      <td>NBT00</td>\n",
       "      <td>52475</td>\n",
       "      <td>0.250000</td>\n",
       "      <td>52475</td>\n",
       "      <td>0.250683</td>\n",
       "      <td>NaN</td>\n",
       "      <td>NaN</td>\n",
       "      <td>Aug Weekday HS23</td>\n",
       "      <td>0.05283</td>\n",
       "      <td>export $/kWh</td>\n",
       "      <td>TOU</td>\n",
       "      <td>All</td>\n",
       "      <td>NaN</td>\n",
       "      <td>NaN</td>\n",
       "      <td>NaN</td>\n",
       "      <td>NaN</td>\n",
       "      <td>NaN</td>\n",
       "      <td>NaN</td>\n",
       "      <td>Aug</td>\n",
       "    </tr>\n",
       "  </tbody>\n",
       "</table>\n",
       "<p>89280 rows × 20 columns</p>\n",
       "</div>"
      ],
      "text/plain": [
       "                         RIN RateName  DateStart  TimeStart  DateEnd  \\\n",
       "5087     USCA-XXSC-NB23-0000    NBT23      45139   0.291667    45139   \n",
       "5088     USCA-XXSC-NB23-0000    NBT23      45139   0.333333    45139   \n",
       "5089     USCA-XXSC-NB23-0000    NBT23      45139   0.375000    45139   \n",
       "5090     USCA-XXSC-NB23-0000    NBT23      45139   0.416667    45139   \n",
       "5091     USCA-XXSC-NB23-0000    NBT23      45139   0.458333    45139   \n",
       "...                      ...      ...        ...        ...      ...   \n",
       "1048266  USCA-SCXX-NB00-0000    NBT00      52475   0.083333    52475   \n",
       "1048267  USCA-SCXX-NB00-0000    NBT00      52475   0.125000    52475   \n",
       "1048268  USCA-SCXX-NB00-0000    NBT00      52475   0.166667    52475   \n",
       "1048269  USCA-SCXX-NB00-0000    NBT00      52475   0.208333    52475   \n",
       "1048270  USCA-SCXX-NB00-0000    NBT00      52475   0.250000    52475   \n",
       "\n",
       "          TimeEnd  DayStart  DayEnd         ValueName    Value          Unit  \\\n",
       "5087     0.292350       NaN     NaN   Aug Weekday HS0  0.05690  export $/kWh   \n",
       "5088     0.334016       NaN     NaN   Aug Weekday HS1  0.05065  export $/kWh   \n",
       "5089     0.375683       NaN     NaN   Aug Weekday HS2  0.05020  export $/kWh   \n",
       "5090     0.417350       NaN     NaN   Aug Weekday HS3  0.04977  export $/kWh   \n",
       "5091     0.459016       NaN     NaN   Aug Weekday HS4  0.04947  export $/kWh   \n",
       "...           ...       ...     ...               ...      ...           ...   \n",
       "1048266  0.084016       NaN     NaN  Aug Weekday HS19  0.29122  export $/kWh   \n",
       "1048267  0.125683       NaN     NaN  Aug Weekday HS20  0.30030  export $/kWh   \n",
       "1048268  0.167350       NaN     NaN  Aug Weekday HS21  0.18590  export $/kWh   \n",
       "1048269  0.209016       NaN     NaN  Aug Weekday HS22  0.09474  export $/kWh   \n",
       "1048270  0.250683       NaN     NaN  Aug Weekday HS23  0.05283  export $/kWh   \n",
       "\n",
       "        RateType Sector  RatePlan_Url  AltRateName1  AltRateName2  \\\n",
       "5087         TOU    All           NaN           NaN           NaN   \n",
       "5088         TOU    All           NaN           NaN           NaN   \n",
       "5089         TOU    All           NaN           NaN           NaN   \n",
       "5090         TOU    All           NaN           NaN           NaN   \n",
       "5091         TOU    All           NaN           NaN           NaN   \n",
       "...          ...    ...           ...           ...           ...   \n",
       "1048266      TOU    All           NaN           NaN           NaN   \n",
       "1048267      TOU    All           NaN           NaN           NaN   \n",
       "1048268      TOU    All           NaN           NaN           NaN   \n",
       "1048269      TOU    All           NaN           NaN           NaN   \n",
       "1048270      TOU    All           NaN           NaN           NaN   \n",
       "\n",
       "         SignupCloseDate  EndUse  API_Url Month  \n",
       "5087                 NaN     NaN      NaN   Aug  \n",
       "5088                 NaN     NaN      NaN   Aug  \n",
       "5089                 NaN     NaN      NaN   Aug  \n",
       "5090                 NaN     NaN      NaN   Aug  \n",
       "5091                 NaN     NaN      NaN   Aug  \n",
       "...                  ...     ...      ...   ...  \n",
       "1048266              NaN     NaN      NaN   Aug  \n",
       "1048267              NaN     NaN      NaN   Aug  \n",
       "1048268              NaN     NaN      NaN   Aug  \n",
       "1048269              NaN     NaN      NaN   Aug  \n",
       "1048270              NaN     NaN      NaN   Aug  \n",
       "\n",
       "[89280 rows x 20 columns]"
      ]
     },
     "execution_count": 136,
     "metadata": {},
     "output_type": "execute_result"
    }
   ],
   "source": [
    "df[df['Month']=='Aug']"
   ]
  },
  {
   "cell_type": "code",
   "execution_count": 137,
   "metadata": {},
   "outputs": [],
   "source": [
    "df_filtered = df[(df['RateName']=='NBT00') & (df['Month']=='Aug')]"
   ]
  },
  {
   "cell_type": "code",
   "execution_count": 138,
   "metadata": {},
   "outputs": [
    {
     "data": {
      "text/plain": [
       "0          Jan\n",
       "1          Jan\n",
       "2          Jan\n",
       "3          Jan\n",
       "4          Jan\n",
       "          ... \n",
       "1048570    Sep\n",
       "1048571    Sep\n",
       "1048572    Sep\n",
       "1048573    Sep\n",
       "1048574    Sep\n",
       "Name: Month, Length: 1048575, dtype: object"
      ]
     },
     "execution_count": 138,
     "metadata": {},
     "output_type": "execute_result"
    }
   ],
   "source": [
    "df['Month']"
   ]
  },
  {
   "cell_type": "code",
   "execution_count": 148,
   "metadata": {},
   "outputs": [
    {
     "data": {
      "text/plain": [
       "(7.000008, 7.0164, 9.0)"
      ]
     },
     "execution_count": 148,
     "metadata": {},
     "output_type": "execute_result"
    }
   ],
   "source": [
    "0.291667*24,0.29235*24,.15*60"
   ]
  },
  {
   "cell_type": "code",
   "execution_count": 151,
   "metadata": {},
   "outputs": [
    {
     "data": {
      "text/plain": [
       "RIN                USCA-SCXX-NB00-0000\n",
       "RateName                         NBT00\n",
       "DateStart                        52475\n",
       "TimeStart                         0.25\n",
       "DateEnd                          52475\n",
       "TimeEnd                       0.250683\n",
       "DayStart                           NaN\n",
       "DayEnd                             NaN\n",
       "ValueName             Aug Weekday HS23\n",
       "Value                          0.05283\n",
       "Unit                      export $/kWh\n",
       "RateType                           TOU\n",
       "Sector                             All\n",
       "RatePlan_Url                       NaN\n",
       "AltRateName1                       NaN\n",
       "AltRateName2                       NaN\n",
       "SignupCloseDate                    NaN\n",
       "EndUse                             NaN\n",
       "API_Url                            NaN\n",
       "Month                              Aug\n",
       "Name: 1048270, dtype: object"
      ]
     },
     "execution_count": 151,
     "metadata": {},
     "output_type": "execute_result"
    }
   ],
   "source": [
    "row"
   ]
  },
  {
   "cell_type": "code",
   "execution_count": 195,
   "metadata": {},
   "outputs": [],
   "source": [
    "x,y,w = [],[],[]\n",
    "for i,row in df_filtered.iterrows():\n",
    "    # x.append(row['TimeStart'])\n",
    "    x.append(int(row['ValueName'].split()[2].lstrip('HS')))\n",
    "    y.append(row['Value'])\n",
    "    w.append(row['ValueName'].split()[1])"
   ]
  },
  {
   "cell_type": "code",
   "execution_count": 198,
   "metadata": {},
   "outputs": [
    {
     "data": {
      "text/plain": [
       "Text(0, 0.5, 'Credit Rate')"
      ]
     },
     "execution_count": 198,
     "metadata": {},
     "output_type": "execute_result"
    },
    {
     "data": {
      "image/png": "[encoded data removed]",
      "text/plain": [
       "<Figure size 640x480 with 1 Axes>"
      ]
     },
     "metadata": {},
     "output_type": "display_data"
    }
   ],
   "source": [
    "import matplotlib.pyplot as plt\n",
    "import numpy as np\n",
    "filter = np.where(np.array(w)=='Weekday')[0]\n",
    "weekdayx=np.array(x)[filter]\n",
    "weekdayy=np.array(y)[filter]\n",
    "# offset = 17\n",
    "offset=0\n",
    "for i in range(3):\n",
    "    plt.plot(weekdayx[offset + i * 24:(i+1) * 24],weekdayy[offset + i * 24:(i+1) * 24])\n",
    "plt.xlabel('PST Time')\n",
    "plt.ylabel('Credit Rate')"
   ]
  },
  {
   "cell_type": "code",
   "execution_count": 8,
   "metadata": {},
   "outputs": [],
   "source": [
    "def longestPalindrome(s):\n",
    "    if s == s[::-1]:\n",
    "        return s\n",
    "\n",
    "    stt, end = 1, 0\n",
    "    for i in range(1, len(s)):\n",
    "        left, right = i-end, i+1\n",
    "        s1, s2 = s[left-1:right], s[left:right]\n",
    "        print(f'stt:{stt}, end:{end}, left:{left}, right:{right}, s1:{s1}, s2:{s2}')\n",
    "\n",
    "        if left-1 >= 0 and s1 == s1[::-1]:\n",
    "            print(f'case1')\n",
    "            stt = left-1\n",
    "            end = end + 2\n",
    "            continue\n",
    "        elif s2 == s2[::-1]:\n",
    "            print(f'case2')\n",
    "            stt = left\n",
    "            end = end + 1\n",
    "            continue\n",
    "        print('neither')\n",
    "        \n",
    "    \n",
    "    return s[stt:stt+end] "
   ]
  },
  {
   "cell_type": "code",
   "execution_count": 9,
   "metadata": {},
   "outputs": [],
   "source": [
    "s = 'cdbabcbabdbab'"
   ]
  },
  {
   "cell_type": "code",
   "execution_count": 10,
   "metadata": {},
   "outputs": [
    {
     "name": "stdout",
     "output_type": "stream",
     "text": [
      "stt:1, end:0, left:1, right:2, s1:cd, s2:d\n",
      "case2\n",
      "stt:1, end:1, left:1, right:3, s1:cdb, s2:db\n",
      "neither\n",
      "stt:1, end:1, left:2, right:4, s1:dba, s2:ba\n",
      "neither\n",
      "stt:1, end:1, left:3, right:5, s1:bab, s2:ab\n",
      "case1\n",
      "stt:2, end:3, left:2, right:6, s1:dbabc, s2:babc\n",
      "neither\n",
      "stt:2, end:3, left:3, right:7, s1:babcb, s2:abcb\n",
      "neither\n",
      "stt:2, end:3, left:4, right:8, s1:abcba, s2:bcba\n",
      "case1\n",
      "stt:3, end:5, left:3, right:9, s1:babcbab, s2:abcbab\n",
      "case1\n",
      "stt:2, end:7, left:2, right:10, s1:dbabcbabd, s2:babcbabd\n",
      "case1\n",
      "stt:1, end:9, left:1, right:11, s1:cdbabcbabdb, s2:dbabcbabdb\n",
      "neither\n",
      "stt:1, end:9, left:2, right:12, s1:dbabcbabdba, s2:babcbabdba\n",
      "neither\n",
      "stt:1, end:9, left:3, right:13, s1:babcbabdbab, s2:abcbabdbab\n",
      "neither\n"
     ]
    },
    {
     "data": {
      "text/plain": [
       "'dbabcbabd'"
      ]
     },
     "execution_count": 10,
     "metadata": {},
     "output_type": "execute_result"
    }
   ],
   "source": [
    "longestPalindrome(s)"
   ]
  },
  {
   "cell_type": "code",
   "execution_count": null,
   "metadata": {},
   "outputs": [],
   "source": []
  }
 ],
 "metadata": {
  "kernelspec": {
   "display_name": "Python 3 (ipykernel)",
   "language": "python",
   "name": "python3"
  },
  "language_info": {
   "codemirror_mode": {
    "name": "ipython",
    "version": 3
   },
   "file_extension": ".py",
   "mimetype": "text/x-python",
   "name": "python",
   "nbconvert_exporter": "python",
   "pygments_lexer": "ipython3",
   "version": "3.12.2"
  }
 },
 "nbformat": 4,
 "nbformat_minor": 2
}
