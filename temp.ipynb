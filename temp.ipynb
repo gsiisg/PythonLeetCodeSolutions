{
 "cells": [
  {
   "cell_type": "code",
   "execution_count": 97,
   "metadata": {},
   "outputs": [
    {
     "name": "stdout",
     "output_type": "stream",
     "text": [
      "at i [[0, 0, 0], [1, 0, 0], [0, 0, 0], [0, 0, 0]]\n",
      "at i [[0, 0, 0], [1, 0, 0], [2, 0, 0], [0, 0, 0]]\n",
      "at i [[0, 0, 0], [1, 0, 0], [2, 0, 0], [3, 0, 0]]\n"
     ]
    }
   ],
   "source": [
    "m=3\n",
    "n=2\n",
    "dp = [[0] * (n + 1) for _ in range(m + 1)]\n",
    "for i in range(1, m + 1):\n",
    "    dp[i][0] = i\n",
    "    print('at i',dp)"
   ]
  },
  {
   "cell_type": "code",
   "execution_count": 113,
   "metadata": {},
   "outputs": [
    {
     "data": {
      "text/plain": [
       "[['', '', ''], ['', '', ''], ['', '', ''], ['', '', '']]"
      ]
     },
     "execution_count": 113,
     "metadata": {},
     "output_type": "execute_result"
    }
   ],
   "source": [
    "l1, l2 = 2,3\n",
    "table = [[''] * (l1 + 1) for x in range(l2+1)]\n",
    "table"
   ]
  },
  {
   "cell_type": "code",
   "execution_count": null,
   "metadata": {},
   "outputs": [],
   "source": []
  }
 ],
 "metadata": {
  "kernelspec": {
   "display_name": "Python 3 (ipykernel)",
   "language": "python",
   "name": "python3"
  },
  "language_info": {
   "codemirror_mode": {
    "name": "ipython",
    "version": 3
   },
   "file_extension": ".py",
   "mimetype": "text/x-python",
   "name": "python",
   "nbconvert_exporter": "python",
   "pygments_lexer": "ipython3",
   "version": "3.11.9"
  }
 },
 "nbformat": 4,
 "nbformat_minor": 2
}
